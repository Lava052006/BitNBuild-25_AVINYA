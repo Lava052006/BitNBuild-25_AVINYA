{
 "cells": [
  {
   "cell_type": "code",
   "execution_count": 1,
   "id": "54593ae7-f224-493f-b20f-3025753fb991",
   "metadata": {},
   "outputs": [
    {
     "name": "stderr",
     "output_type": "stream",
     "text": [
      "C:\\Users\\Admin\\anaconda3\\envs\\review-radar-env\\Lib\\site-packages\\tqdm\\auto.py:21: TqdmWarning: IProgress not found. Please update jupyter and ipywidgets. See https://ipywidgets.readthedocs.io/en/stable/user_install.html\n",
      "  from .autonotebook import tqdm as notebook_tqdm\n"
     ]
    },
    {
     "name": "stdout",
     "output_type": "stream",
     "text": [
      "All libraries imported successfully.\n"
     ]
    }
   ],
   "source": [
    "# --- Import Necessary Libraries ---\n",
    "\n",
    "# For data manipulation\n",
    "import pandas as pd\n",
    "import re\n",
    "\n",
    "# For sentiment analysis model\n",
    "from transformers import pipeline\n",
    "\n",
    "# For keyword extraction (TF-IDF)\n",
    "from sklearn.feature_extraction.text import TfidfVectorizer\n",
    "\n",
    "# For data visualization\n",
    "import matplotlib.pyplot as plt\n",
    "import seaborn as sns\n",
    "\n",
    "# Set plotting style\n",
    "sns.set_style('whitegrid')\n",
    "\n",
    "print(\"All libraries imported successfully.\")"
   ]
  },
  {
   "cell_type": "code",
   "execution_count": 2,
   "id": "0638dab9-4bd2-43be-b884-53d39495491d",
   "metadata": {},
   "outputs": [
    {
     "name": "stdout",
     "output_type": "stream",
     "text": [
      "Attempting to load 6 CSV files...\n",
      "  - Successfully loaded 'ball_test.csv' (100 rows)\n",
      "  - Successfully loaded 'bracelet_test.csv' (102 rows)\n",
      "  - Successfully loaded 'lens_test.csv' (11 rows)\n",
      "  - Successfully loaded 'fan_test.csv' (101 rows)\n",
      "  - Successfully loaded 'coffee_test.csv' (100 rows)\n",
      "  - Successfully loaded 'ps4_controller_test.csv' (62 rows)\n",
      "\n",
      "All datasets combined successfully.\n",
      "Shape of the final combined dataset: (476, 2)\n"
     ]
    }
   ],
   "source": [
    "# Define the list of file paths for your CSVs\n",
    "file_paths = ['ball_test.csv', 'bracelet_test.csv', 'lens_test.csv', 'fan_test.csv', 'coffee_test.csv', 'ps4_controller_test.csv'] # <--- ADD YOUR FILENAMES HERE\n",
    "\n",
    "# Create an empty list to hold the individual DataFrames\n",
    "list_of_dfs = []\n",
    "\n",
    "print(f\"Attempting to load {len(file_paths)} CSV files...\")\n",
    "\n",
    "# Loop through the list of file paths\n",
    "for file_path in file_paths:\n",
    "    try:\n",
    "        # Load the CSV into a pandas DataFrame\n",
    "        temp_df = pd.read_csv(file_path)\n",
    "        \n",
    "        # --- IMPORTANT: Ensure the column name is consistent ---\n",
    "        # If your review column has different names in different files, rename them here.\n",
    "        # For example, if some files have 'review' and others have 'review_text':\n",
    "        # if 'review' in temp_df.columns:\n",
    "        #     temp_df = temp_df.rename(columns={'review': 'review_text'})\n",
    "        \n",
    "        list_of_dfs.append(temp_df)\n",
    "        print(f\"  - Successfully loaded '{file_path}' ({len(temp_df)} rows)\")\n",
    "        \n",
    "    except FileNotFoundError:\n",
    "        print(f\"  - Error: The file '{file_path}' was not found. It will be skipped.\")\n",
    "    except Exception as e:\n",
    "        print(f\"  - An error occurred with file '{file_path}': {e}\")\n",
    "\n",
    "# Check if any DataFrames were successfully loaded\n",
    "if list_of_dfs:\n",
    "    # Concatenate all the DataFrames in the list into a single DataFrame\n",
    "    df = pd.concat(list_of_dfs, ignore_index=True)\n",
    "    \n",
    "    print(\"\\nAll datasets combined successfully.\")\n",
    "    print(\"Shape of the final combined dataset:\", df.shape)\n",
    "    # Display the first 5 rows to inspect the final data\n",
    "    df.head()\n",
    "else:\n",
    "    print(\"\\nNo data was loaded. Please check your file paths and CSV files.\")\n",
    "    # Create an empty DataFrame to prevent errors in subsequent cells\n",
    "    df = pd.DataFrame(columns=['review_text'])"
   ]
  },
  {
   "cell_type": "code",
   "execution_count": 3,
   "id": "086b8be4-2d12-4b63-a62c-5240c413270d",
   "metadata": {},
   "outputs": [
    {
     "name": "stdout",
     "output_type": "stream",
     "text": [
      "Text data has been cleaned with the upgraded function.\n"
     ]
    },
    {
     "data": {
      "text/html": [
       "<div>\n",
       "<style scoped>\n",
       "    .dataframe tbody tr th:only-of-type {\n",
       "        vertical-align: middle;\n",
       "    }\n",
       "\n",
       "    .dataframe tbody tr th {\n",
       "        vertical-align: top;\n",
       "    }\n",
       "\n",
       "    .dataframe thead th {\n",
       "        text-align: right;\n",
       "    }\n",
       "</style>\n",
       "<table border=\"1\" class=\"dataframe\">\n",
       "  <thead>\n",
       "    <tr style=\"text-align: right;\">\n",
       "      <th></th>\n",
       "      <th>review_text</th>\n",
       "      <th>cleaned_review</th>\n",
       "    </tr>\n",
       "  </thead>\n",
       "  <tbody>\n",
       "    <tr>\n",
       "      <th>0</th>\n",
       "      <td>Good</td>\n",
       "      <td>good</td>\n",
       "    </tr>\n",
       "    <tr>\n",
       "      <th>1</th>\n",
       "      <td>Good</td>\n",
       "      <td>good</td>\n",
       "    </tr>\n",
       "    <tr>\n",
       "      <th>2</th>\n",
       "      <td>Usefull for overloading the hand</td>\n",
       "      <td>usefull for overloading the hand</td>\n",
       "    </tr>\n",
       "    <tr>\n",
       "      <th>3</th>\n",
       "      <td>Good product</td>\n",
       "      <td>good product</td>\n",
       "    </tr>\n",
       "    <tr>\n",
       "      <th>4</th>\n",
       "      <td>Good</td>\n",
       "      <td>good</td>\n",
       "    </tr>\n",
       "  </tbody>\n",
       "</table>\n",
       "</div>"
      ],
      "text/plain": [
       "                        review_text                    cleaned_review\n",
       "0                              Good                              good\n",
       "1                              Good                              good\n",
       "2  Usefull for overloading the hand  usefull for overloading the hand\n",
       "3                      Good product                      good product\n",
       "4                              Good                              good"
      ]
     },
     "execution_count": 3,
     "metadata": {},
     "output_type": "execute_result"
    }
   ],
   "source": [
    "# --- Step 2: Clean and Preprocess the Text Data (UPGRADED) ---\n",
    "\n",
    "def clean_review_text(text):\n",
    "    \"\"\"\n",
    "    Cleans the review text by removing 'READ MORE', converting to lowercase,\n",
    "    and removing numbers and extra whitespace.\n",
    "    \"\"\"\n",
    "    if not isinstance(text, str):\n",
    "        return \"\"\n",
    "    \n",
    "    text = text.replace('READ MORE', '')\n",
    "    \n",
    "    # --- MODIFICATION HERE ---\n",
    "    # Use regex to remove all digits\n",
    "    text = re.sub(r'\\d+', '', text)\n",
    "    \n",
    "    text = text.lower()\n",
    "    text = re.sub(r'\\s+', ' ', text).strip()\n",
    "    return text\n",
    "\n",
    "# Apply the updated cleaning function to the 'review_text' column\n",
    "df['cleaned_review'] = df['review_text'].apply(clean_review_text)\n",
    "\n",
    "print(\"Text data has been cleaned with the upgraded function.\")\n",
    "df[['review_text', 'cleaned_review']].head()"
   ]
  },
  {
   "cell_type": "code",
   "execution_count": 4,
   "id": "3c7ebdd1-7bb5-4d72-a26c-01cf55b6edaf",
   "metadata": {},
   "outputs": [
    {
     "name": "stdout",
     "output_type": "stream",
     "text": [
      "Loading your custom model from 'review-sentiment-roberta-custom/checkpoint-165'...\n"
     ]
    },
    {
     "name": "stderr",
     "output_type": "stream",
     "text": [
      "Device set to use cpu\n"
     ]
    },
    {
     "name": "stdout",
     "output_type": "stream",
     "text": [
      "Custom model loaded successfully.\n"
     ]
    }
   ],
   "source": [
    "# --- Step 3: Load Your Custom Fine-Tuned Model ---\n",
    "\n",
    "from transformers import pipeline\n",
    "\n",
    "# The path must point to the specific checkpoint with the saved model files\n",
    "CUSTOM_MODEL_PATH = \"review-sentiment-roberta-custom/checkpoint-165\" \n",
    "\n",
    "print(f\"Loading your custom model from '{CUSTOM_MODEL_PATH}'...\")\n",
    "sentiment_classifier = pipeline(\n",
    "    \"sentiment-analysis\",\n",
    "    model=CUSTOM_MODEL_PATH,\n",
    "    device=-1 # Specify CPU\n",
    ")\n",
    "print(\"Custom model loaded successfully.\")"
   ]
  },
  {
   "cell_type": "code",
   "execution_count": 5,
   "id": "475ff25e-d53e-4990-a6ce-a5d3b6e718ac",
   "metadata": {},
   "outputs": [
    {
     "name": "stdout",
     "output_type": "stream",
     "text": [
      "Running custom model on unseen validation data...\n",
      "\n",
      "--- FINAL MODEL VALIDATION REPORT ---\n",
      "Final Model Accuracy: 96.40%\n",
      "\n",
      "Detailed Classification Report:\n",
      "              precision    recall  f1-score   support\n",
      "\n",
      "           N       0.94      1.00      0.97        15\n",
      "           O       1.00      0.43      0.60         7\n",
      "           P       0.97      1.00      0.98        89\n",
      "\n",
      "    accuracy                           0.96       111\n",
      "   macro avg       0.97      0.81      0.85       111\n",
      "weighted avg       0.97      0.96      0.96       111\n",
      "\n"
     ]
    }
   ],
   "source": [
    "# --- BONUS STEP: Model Validation (with CUSTOM model) ---\n",
    "\n",
    "from sklearn.metrics import accuracy_score, classification_report\n",
    "\n",
    "try:\n",
    "    validation_df = pd.read_csv('refrigerator_test.csv') \n",
    "    validation_df['cleaned_review'] = validation_df['review_text'].apply(clean_review_text)\n",
    "\n",
    "    print(\"Running custom model on unseen validation data...\")\n",
    "    validation_results = sentiment_classifier(validation_df['cleaned_review'].tolist())\n",
    "    predicted_labels_raw = [result['label'] for result in validation_results]\n",
    "\n",
    "    # --- THIS IS THE FIX ---\n",
    "    # The map must use the fine-tuned model's output ('positive') as keys.\n",
    "    model_to_manual_map = {\n",
    "        'positive': 'P',\n",
    "        'neutral': 'O',\n",
    "        'negative': 'N'\n",
    "    }\n",
    "    model_predictions = [model_to_manual_map.get(label) for label in predicted_labels_raw]\n",
    "\n",
    "    true_labels = validation_df['review_feel'].replace('F', 'N')\n",
    "\n",
    "    print(\"\\n--- FINAL MODEL VALIDATION REPORT ---\")\n",
    "    accuracy = accuracy_score(true_labels, model_predictions)\n",
    "    print(f\"Final Model Accuracy: {accuracy * 100:.2f}%\")\n",
    "    \n",
    "    print(\"\\nDetailed Classification Report:\")\n",
    "    print(classification_report(true_labels, model_predictions, zero_division=0))\n",
    "\n",
    "except FileNotFoundError:\n",
    "    print(\"\\nValidation skipped: The 'refrigerator_test.csv' file was not found.\")\n",
    "except Exception as e:\n",
    "    print(f\"\\nAn error occurred during validation: {e}\")"
   ]
  },
  {
   "cell_type": "code",
   "execution_count": 6,
   "id": "1b648917-e1d1-49cf-9fc8-a1947a016cea",
   "metadata": {},
   "outputs": [
    {
     "name": "stdout",
     "output_type": "stream",
     "text": [
      "Applying RoBERTa sentiment model to the main dataset...\n",
      "Sentiment analysis complete and RoBERTa labels have been mapped.\n"
     ]
    },
    {
     "data": {
      "text/html": [
       "<div>\n",
       "<style scoped>\n",
       "    .dataframe tbody tr th:only-of-type {\n",
       "        vertical-align: middle;\n",
       "    }\n",
       "\n",
       "    .dataframe tbody tr th {\n",
       "        vertical-align: top;\n",
       "    }\n",
       "\n",
       "    .dataframe thead th {\n",
       "        text-align: right;\n",
       "    }\n",
       "</style>\n",
       "<table border=\"1\" class=\"dataframe\">\n",
       "  <thead>\n",
       "    <tr style=\"text-align: right;\">\n",
       "      <th></th>\n",
       "      <th>cleaned_review</th>\n",
       "      <th>sentiment_label</th>\n",
       "      <th>sentiment_score</th>\n",
       "    </tr>\n",
       "  </thead>\n",
       "  <tbody>\n",
       "    <tr>\n",
       "      <th>0</th>\n",
       "      <td>good</td>\n",
       "      <td>POSITIVE</td>\n",
       "      <td>0.998825</td>\n",
       "    </tr>\n",
       "    <tr>\n",
       "      <th>1</th>\n",
       "      <td>good</td>\n",
       "      <td>POSITIVE</td>\n",
       "      <td>0.998825</td>\n",
       "    </tr>\n",
       "    <tr>\n",
       "      <th>2</th>\n",
       "      <td>usefull for overloading the hand</td>\n",
       "      <td>POSITIVE</td>\n",
       "      <td>0.997585</td>\n",
       "    </tr>\n",
       "    <tr>\n",
       "      <th>3</th>\n",
       "      <td>good product</td>\n",
       "      <td>POSITIVE</td>\n",
       "      <td>0.998855</td>\n",
       "    </tr>\n",
       "    <tr>\n",
       "      <th>4</th>\n",
       "      <td>good</td>\n",
       "      <td>POSITIVE</td>\n",
       "      <td>0.998825</td>\n",
       "    </tr>\n",
       "  </tbody>\n",
       "</table>\n",
       "</div>"
      ],
      "text/plain": [
       "                     cleaned_review sentiment_label  sentiment_score\n",
       "0                              good        POSITIVE         0.998825\n",
       "1                              good        POSITIVE         0.998825\n",
       "2  usefull for overloading the hand        POSITIVE         0.997585\n",
       "3                      good product        POSITIVE         0.998855\n",
       "4                              good        POSITIVE         0.998825"
      ]
     },
     "execution_count": 6,
     "metadata": {},
     "output_type": "execute_result"
    }
   ],
   "source": [
    "# --- Step 4: Apply the Model and Map Labels (with RoBERTa LOGIC) ---\n",
    "\n",
    "print(\"Applying RoBERTa sentiment model to the main dataset...\")\n",
    "\n",
    "# Get the sentiment for each review\n",
    "results = sentiment_classifier(df['cleaned_review'].tolist())\n",
    "\n",
    "# Extract the raw label and score\n",
    "df['sentiment_label_raw'] = [result['label'] for result in results]\n",
    "df['sentiment_score'] = [result['score'] for result in results]\n",
    "\n",
    "# --- !!! THIS IS THE FIX: A MAPPING STEP FOR THE RoBERTa MODEL !!! ---\n",
    "# Define the mapping from the RoBERTa model's lowercase output to our desired uppercase labels\n",
    "roberta_to_sentiment_map = {\n",
    "    'positive': 'POSITIVE',\n",
    "    'neutral': 'NEUTRAL',\n",
    "    'negative': 'NEGATIVE'\n",
    "}\n",
    "\n",
    "# Apply the mapping to create the final sentiment label column\n",
    "df['sentiment_label'] = df['sentiment_label_raw'].map(roberta_to_sentiment_map)\n",
    "\n",
    "print(\"Sentiment analysis complete and RoBERTa labels have been mapped.\")\n",
    "# Display the reviews with their new, readable sentiments\n",
    "df[['cleaned_review', 'sentiment_label', 'sentiment_score']].head()"
   ]
  },
  {
   "cell_type": "code",
   "execution_count": 7,
   "id": "11e0a7b7-8f5d-4e70-ab98-c059ff643137",
   "metadata": {
    "scrolled": true
   },
   "outputs": [
    {
     "name": "stdout",
     "output_type": "stream",
     "text": [
      "Final Top Positive Keywords/Phrases: ['good', 'nice', 'product', 'good product', 'nice product', 'quality', 'super', 'best', 'good quality', 'amazing']\n",
      "Final Top Negative Keywords/Phrases: ['bad', 'product', 'working', 'quality', 'bad product', 'worst', 'money', 'bad quality', 'don', 'worst product']\n"
     ]
    }
   ],
   "source": [
    "# --- Step 5: Extract Top Keywords (FINAL UPGRADE with N-grams and Filtering) ---\n",
    "\n",
    "def get_top_keywords(df, sentiment, n_top=15): # Increased n_top to get a wider selection before filtering\n",
    "    \"\"\"\n",
    "    Extracts top keywords, now using up to trigrams and filtering out misleading\n",
    "    positive words from the negative list.\n",
    "    \"\"\"\n",
    "    subset_df = df[df['sentiment_label'] == sentiment]\n",
    "    \n",
    "    if subset_df.empty:\n",
    "        return []\n",
    "        \n",
    "    text_corpus = subset_df['cleaned_review'].tolist()\n",
    "    \n",
    "    # --- MODIFICATION 1: EXPAND N-GRAM RANGE ---\n",
    "    # We now look for sequences of 1, 2, or 3 words.\n",
    "    vectorizer = TfidfVectorizer(stop_words='english', max_features=1000, ngram_range=(1, 3))\n",
    "    \n",
    "    tfidf_matrix = vectorizer.fit_transform(text_corpus)\n",
    "    feature_names = vectorizer.get_feature_names_out()\n",
    "    summed_tfidf = tfidf_matrix.sum(axis=0)\n",
    "    \n",
    "    tfidf_scores = []\n",
    "    for word, idx in vectorizer.vocabulary_.items():\n",
    "        tfidf_scores.append((word, summed_tfidf[0, idx]))\n",
    "        \n",
    "    sorted_scores = sorted(tfidf_scores, key=lambda x: x[1], reverse=True)\n",
    "    top_keywords = [word for word, score in sorted_scores[:n_top]]\n",
    "    \n",
    "    # --- MODIFICATION 2: POST-PROCESSING FILTER ---\n",
    "    # If we are looking at negative keywords, remove common positive words.\n",
    "    if sentiment == 'NEGATIVE':\n",
    "        positive_filter_words = ['good', 'nice', 'great', 'amazing', 'best', 'excellent', 'love']\n",
    "        # Use a list comprehension to create a new list excluding the filtered words\n",
    "        top_keywords = [keyword for keyword in top_keywords if keyword not in positive_filter_words]\n",
    "    \n",
    "    # Return the top 10 from the potentially filtered list\n",
    "    return top_keywords[:10]\n",
    "\n",
    "# --- Get the final, cleaned keywords ---\n",
    "top_positive_keywords = get_top_keywords(df, 'POSITIVE')\n",
    "top_negative_keywords = get_top_keywords(df, 'NEGATIVE')\n",
    "\n",
    "print(\"Final Top Positive Keywords/Phrases:\", top_positive_keywords)\n",
    "print(\"Final Top Negative Keywords/Phrases:\", top_negative_keywords)"
   ]
  },
  {
   "cell_type": "code",
   "execution_count": 8,
   "id": "c1f25bbc-67ae-432f-8091-f3b93abe6dfa",
   "metadata": {},
   "outputs": [
    {
     "data": {
      "image/png": "[encoded data removed]",
      "text/plain": [
       "<Figure size 800x800 with 1 Axes>"
      ]
     },
     "metadata": {},
     "output_type": "display_data"
    },
    {
     "name": "stdout",
     "output_type": "stream",
     "text": [
      "\n",
      "--- Summary ---\n",
      "Total Reviews Analyzed: 476\n",
      "\n",
      "Sentiment Distribution:\n",
      "sentiment_label\n",
      "POSITIVE    393\n",
      "NEGATIVE     65\n",
      "NEUTRAL      18\n",
      "Name: count, dtype: int64\n",
      "\n",
      "----------------------------------\n",
      "Top 10 Keywords in POSITIVE Reviews:\n",
      "good , nice , product , good product , nice product , quality , super , best , good quality , amazing\n",
      "\n",
      "Top 10 Keywords in NEGATIVE Reviews:\n",
      "bad , product , working , quality , bad product , worst , money , bad quality , don , worst product\n",
      "----------------------------------\n"
     ]
    }
   ],
   "source": [
    "# --- Step 6: Generate the Summary Dashboard ---\n",
    "\n",
    "# 1. Calculate sentiment counts\n",
    "sentiment_counts = df['sentiment_label'].value_counts()\n",
    "\n",
    "# 2. Create the Pie Chart\n",
    "plt.figure(figsize=(8, 8))\n",
    "plt.pie(sentiment_counts, labels=sentiment_counts.index, autopct='%1.1f%%', startangle=140, colors=sns.color_palette(\"viridis\", len(sentiment_counts)))\n",
    "plt.title('Sentiment Analysis Breakdown of Product Reviews', fontsize=16)\n",
    "plt.ylabel('') # Hides the 'sentiment_label' text on the y-axis\n",
    "plt.show()\n",
    "\n",
    "# 3. Display the Top Keywords\n",
    "print(\"\\n--- Summary ---\")\n",
    "print(f\"Total Reviews Analyzed: {len(df)}\")\n",
    "print(\"\\nSentiment Distribution:\")\n",
    "print(sentiment_counts)\n",
    "print(\"\\n----------------------------------\")\n",
    "print(\"Top 10 Keywords in POSITIVE Reviews:\")\n",
    "print(\" , \".join(top_positive_keywords))\n",
    "print(\"\\nTop 10 Keywords in NEGATIVE Reviews:\")\n",
    "print(\" , \".join(top_negative_keywords))\n",
    "print(\"----------------------------------\")"
   ]
  },
  {
   "cell_type": "code",
   "execution_count": null,
   "id": "7c58b11c-1fa4-4d17-b523-87572703fd57",
   "metadata": {},
   "outputs": [],
   "source": []
  },
  {
   "cell_type": "code",
   "execution_count": null,
   "id": "5a1eefea-8d84-4b16-87b2-df1e5e79b4d1",
   "metadata": {},
   "outputs": [],
   "source": []
  }
 ],
 "metadata": {
  "kernelspec": {
   "display_name": "Python 3 (ipykernel)",
   "language": "python",
   "name": "python3"
  },
  "language_info": {
   "codemirror_mode": {
    "name": "ipython",
    "version": 3
   },
   "file_extension": ".py",
   "mimetype": "text/x-python",
   "name": "python",
   "nbconvert_exporter": "python",
   "pygments_lexer": "ipython3",
   "version": "3.13.7"
  }
 },
 "nbformat": 4,
 "nbformat_minor": 5
}
