{
 "cells": [
  {
   "cell_type": "code",
   "execution_count": 1,
   "id": "54593ae7-f224-493f-b20f-3025753fb991",
   "metadata": {},
   "outputs": [
    {
     "name": "stdout",
     "output_type": "stream",
     "text": [
      "All libraries imported successfully.\n"
     ]
    }
   ],
   "source": [
    "# --- Import Necessary Libraries ---\n",
    "\n",
    "# For data manipulation\n",
    "import pandas as pd\n",
    "import re\n",
    "\n",
    "# For sentiment analysis model\n",
    "from transformers import pipeline\n",
    "\n",
    "# For keyword extraction (TF-IDF)\n",
    "from sklearn.feature_extraction.text import TfidfVectorizer\n",
    "\n",
    "# For data visualization\n",
    "import matplotlib.pyplot as plt\n",
    "import seaborn as sns\n",
    "\n",
    "# Set plotting style\n",
    "sns.set_style('whitegrid')\n",
    "\n",
    "print(\"All libraries imported successfully.\")"
   ]
  },
  {
   "cell_type": "code",
   "execution_count": 2,
   "id": "0638dab9-4bd2-43be-b884-53d39495491d",
   "metadata": {},
   "outputs": [
    {
     "name": "stdout",
     "output_type": "stream",
     "text": [
      "Attempting to load 5 CSV files...\n",
      "  - Successfully loaded 'ball_test.csv' (100 rows)\n",
      "  - Successfully loaded 'bracelet_test.csv' (102 rows)\n",
      "  - Successfully loaded 'lens_test.csv' (11 rows)\n",
      "  - Successfully loaded 'ps4_controller_test.csv' (62 rows)\n",
      "  - Successfully loaded 'refrigerator_test.csv' (111 rows)\n",
      "\n",
      "All datasets combined successfully.\n",
      "Shape of the final combined dataset: (386, 2)\n"
     ]
    }
   ],
   "source": [
    "# Define the list of file paths for your CSVs\n",
    "file_paths = ['ball_test.csv', 'bracelet_test.csv', 'lens_test.csv', 'ps4_controller_test.csv', 'refrigerator_test.csv'] # <--- ADD YOUR FILENAMES HERE\n",
    "\n",
    "# Create an empty list to hold the individual DataFrames\n",
    "list_of_dfs = []\n",
    "\n",
    "print(f\"Attempting to load {len(file_paths)} CSV files...\")\n",
    "\n",
    "# Loop through the list of file paths\n",
    "for file_path in file_paths:\n",
    "    try:\n",
    "        # Load the CSV into a pandas DataFrame\n",
    "        temp_df = pd.read_csv(file_path)\n",
    "        \n",
    "        # --- IMPORTANT: Ensure the column name is consistent ---\n",
    "        # If your review column has different names in different files, rename them here.\n",
    "        # For example, if some files have 'review' and others have 'review_text':\n",
    "        # if 'review' in temp_df.columns:\n",
    "        #     temp_df = temp_df.rename(columns={'review': 'review_text'})\n",
    "        \n",
    "        list_of_dfs.append(temp_df)\n",
    "        print(f\"  - Successfully loaded '{file_path}' ({len(temp_df)} rows)\")\n",
    "        \n",
    "    except FileNotFoundError:\n",
    "        print(f\"  - Error: The file '{file_path}' was not found. It will be skipped.\")\n",
    "    except Exception as e:\n",
    "        print(f\"  - An error occurred with file '{file_path}': {e}\")\n",
    "\n",
    "# Check if any DataFrames were successfully loaded\n",
    "if list_of_dfs:\n",
    "    # Concatenate all the DataFrames in the list into a single DataFrame\n",
    "    df = pd.concat(list_of_dfs, ignore_index=True)\n",
    "    \n",
    "    print(\"\\nAll datasets combined successfully.\")\n",
    "    print(\"Shape of the final combined dataset:\", df.shape)\n",
    "    # Display the first 5 rows to inspect the final data\n",
    "    df.head()\n",
    "else:\n",
    "    print(\"\\nNo data was loaded. Please check your file paths and CSV files.\")\n",
    "    # Create an empty DataFrame to prevent errors in subsequent cells\n",
    "    df = pd.DataFrame(columns=['review_text'])"
   ]
  },
  {
   "cell_type": "code",
   "execution_count": 3,
   "id": "086b8be4-2d12-4b63-a62c-5240c413270d",
   "metadata": {},
   "outputs": [
    {
     "name": "stdout",
     "output_type": "stream",
     "text": [
      "Text data has been cleaned.\n"
     ]
    },
    {
     "data": {
      "text/html": [
       "<div>\n",
       "<style scoped>\n",
       "    .dataframe tbody tr th:only-of-type {\n",
       "        vertical-align: middle;\n",
       "    }\n",
       "\n",
       "    .dataframe tbody tr th {\n",
       "        vertical-align: top;\n",
       "    }\n",
       "\n",
       "    .dataframe thead th {\n",
       "        text-align: right;\n",
       "    }\n",
       "</style>\n",
       "<table border=\"1\" class=\"dataframe\">\n",
       "  <thead>\n",
       "    <tr style=\"text-align: right;\">\n",
       "      <th></th>\n",
       "      <th>review_text</th>\n",
       "      <th>cleaned_review</th>\n",
       "    </tr>\n",
       "  </thead>\n",
       "  <tbody>\n",
       "    <tr>\n",
       "      <th>0</th>\n",
       "      <td>Good</td>\n",
       "      <td>good</td>\n",
       "    </tr>\n",
       "    <tr>\n",
       "      <th>1</th>\n",
       "      <td>Good</td>\n",
       "      <td>good</td>\n",
       "    </tr>\n",
       "    <tr>\n",
       "      <th>2</th>\n",
       "      <td>Usefull for overloading the hand</td>\n",
       "      <td>usefull for overloading the hand</td>\n",
       "    </tr>\n",
       "    <tr>\n",
       "      <th>3</th>\n",
       "      <td>Good product</td>\n",
       "      <td>good product</td>\n",
       "    </tr>\n",
       "    <tr>\n",
       "      <th>4</th>\n",
       "      <td>Good</td>\n",
       "      <td>good</td>\n",
       "    </tr>\n",
       "  </tbody>\n",
       "</table>\n",
       "</div>"
      ],
      "text/plain": [
       "                        review_text                    cleaned_review\n",
       "0                              Good                              good\n",
       "1                              Good                              good\n",
       "2  Usefull for overloading the hand  usefull for overloading the hand\n",
       "3                      Good product                      good product\n",
       "4                              Good                              good"
      ]
     },
     "execution_count": 3,
     "metadata": {},
     "output_type": "execute_result"
    }
   ],
   "source": [
    "# --- Step 2: Clean and Preprocess the Text Data (UPGRADED) ---\n",
    "\n",
    "def clean_review_text(text):\n",
    "    \"\"\"\n",
    "    Cleans the review text by removing 'READ MORE', converting to lowercase,\n",
    "    and removing numbers and extra whitespace.\n",
    "    \"\"\"\n",
    "    if not isinstance(text, str):\n",
    "        return \"\"\n",
    "    \n",
    "    text = text.replace('READ MORE', '')\n",
    "    \n",
    "    # --- MODIFICATION HERE ---\n",
    "    # Use regex to remove all digits\n",
    "    text = re.sub(r'\\d+', '', text)\n",
    "    \n",
    "    text = text.lower()\n",
    "    text = re.sub(r'\\s+', ' ', text).strip()\n",
    "    return text\n",
    "\n",
    "# Apply the updated cleaning function to the 'review_text' column\n",
    "df['cleaned_review'] = df['review_text'].apply(clean_review_text)\n",
    "\n",
    "print(\"Text data has been cleaned with the upgraded function.\")\n",
    "df[['review_text', 'cleaned_review']].head()"
   ]
  },
  {
   "cell_type": "code",
   "execution_count": 4,
   "id": "3c7ebdd1-7bb5-4d72-a26c-01cf55b6edaf",
   "metadata": {},
   "outputs": [
    {
     "name": "stdout",
     "output_type": "stream",
     "text": [
      "Loading the pre-trained sentiment analysis model...\n",
      "This may take a few minutes on the first run as the model is downloaded.\n"
     ]
    },
    {
     "name": "stderr",
     "output_type": "stream",
     "text": [
      "Device set to use cpu\n"
     ]
    },
    {
     "name": "stdout",
     "output_type": "stream",
     "text": [
      "Sentiment analysis model loaded successfully.\n"
     ]
    }
   ],
   "source": [
    "# --- Step 3: Load the Sentiment Analysis Model ---\n",
    "\n",
    "print(\"Loading the pre-trained sentiment analysis model...\")\n",
    "print(\"This may take a few minutes on the first run as the model is downloaded.\")\n",
    "\n",
    "try:\n",
    "    # Load the pipeline for sentiment analysis using a specific pre-trained model\n",
    "    sentiment_classifier = pipeline(\n",
    "        \"sentiment-analysis\",\n",
    "        model=\"bareeraqrsh/Sentiment-analysis-tool\"\n",
    "    )\n",
    "    print(\"Sentiment analysis model loaded successfully.\")\n",
    "except Exception as e:\n",
    "    print(f\"An error occurred while loading the model: {e}\")\n",
    "    print(\"Please ensure you have an active internet connection.\")"
   ]
  },
  {
   "cell_type": "code",
   "execution_count": 5,
   "id": "1b648917-e1d1-49cf-9fc8-a1947a016cea",
   "metadata": {},
   "outputs": [
    {
     "name": "stdout",
     "output_type": "stream",
     "text": [
      "Applying sentiment analysis model to the dataset...\n",
      "Sentiment analysis complete and labels have been mapped.\n"
     ]
    },
    {
     "data": {
      "text/html": [
       "<div>\n",
       "<style scoped>\n",
       "    .dataframe tbody tr th:only-of-type {\n",
       "        vertical-align: middle;\n",
       "    }\n",
       "\n",
       "    .dataframe tbody tr th {\n",
       "        vertical-align: top;\n",
       "    }\n",
       "\n",
       "    .dataframe thead th {\n",
       "        text-align: right;\n",
       "    }\n",
       "</style>\n",
       "<table border=\"1\" class=\"dataframe\">\n",
       "  <thead>\n",
       "    <tr style=\"text-align: right;\">\n",
       "      <th></th>\n",
       "      <th>cleaned_review</th>\n",
       "      <th>sentiment_label</th>\n",
       "      <th>sentiment_score</th>\n",
       "    </tr>\n",
       "  </thead>\n",
       "  <tbody>\n",
       "    <tr>\n",
       "      <th>0</th>\n",
       "      <td>good</td>\n",
       "      <td>POSITIVE</td>\n",
       "      <td>0.741096</td>\n",
       "    </tr>\n",
       "    <tr>\n",
       "      <th>1</th>\n",
       "      <td>good</td>\n",
       "      <td>POSITIVE</td>\n",
       "      <td>0.741096</td>\n",
       "    </tr>\n",
       "    <tr>\n",
       "      <th>2</th>\n",
       "      <td>usefull for overloading the hand</td>\n",
       "      <td>POSITIVE</td>\n",
       "      <td>0.918868</td>\n",
       "    </tr>\n",
       "    <tr>\n",
       "      <th>3</th>\n",
       "      <td>good product</td>\n",
       "      <td>POSITIVE</td>\n",
       "      <td>0.904153</td>\n",
       "    </tr>\n",
       "    <tr>\n",
       "      <th>4</th>\n",
       "      <td>good</td>\n",
       "      <td>POSITIVE</td>\n",
       "      <td>0.741096</td>\n",
       "    </tr>\n",
       "  </tbody>\n",
       "</table>\n",
       "</div>"
      ],
      "text/plain": [
       "                     cleaned_review sentiment_label  sentiment_score\n",
       "0                              good        POSITIVE         0.741096\n",
       "1                              good        POSITIVE         0.741096\n",
       "2  usefull for overloading the hand        POSITIVE         0.918868\n",
       "3                      good product        POSITIVE         0.904153\n",
       "4                              good        POSITIVE         0.741096"
      ]
     },
     "execution_count": 5,
     "metadata": {},
     "output_type": "execute_result"
    }
   ],
   "source": [
    "# --- Step 4: Apply the Model and Map Labels ---\n",
    "\n",
    "print(\"Applying sentiment analysis model to the dataset...\")\n",
    "\n",
    "# Get the sentiment for each review\n",
    "results = sentiment_classifier(df['cleaned_review'].tolist())\n",
    "\n",
    "# Extract the raw label and score from the results\n",
    "df['sentiment_label'] = [result['label'] for result in results]\n",
    "df['sentiment_score'] = [result['score'] for result in results]\n",
    "\n",
    "# --- !!! THIS IS THE FIX: A MAPPING STEP !!! ---\n",
    "# Define the mapping from the model's output to our desired labels\n",
    "label_mapping = {\n",
    "    'LABEL_2': 'POSITIVE',\n",
    "    'LABEL_1': 'NEUTRAL',\n",
    "    'LABEL_0': 'NEGATIVE'\n",
    "}\n",
    "\n",
    "# Apply the mapping to the 'sentiment_label' column\n",
    "df['sentiment_label'] = df['sentiment_label'].map(label_mapping)\n",
    "\n",
    "print(\"Sentiment analysis complete and labels have been mapped.\")\n",
    "# Display the reviews with their new, readable sentiments\n",
    "df[['cleaned_review', 'sentiment_label', 'sentiment_score']].head()"
   ]
  },
  {
   "cell_type": "code",
   "execution_count": 6,
   "id": "11e0a7b7-8f5d-4e70-ab98-c059ff643137",
   "metadata": {
    "scrolled": true
   },
   "outputs": [
    {
     "name": "stdout",
     "output_type": "stream",
     "text": [
      "Top Positive Keywords: ['good', 'product', 'nice', 'quality', 'best', 'great', 'price', '5very', 'like', 'amazing']\n",
      "Top Negative Keywords: ['bad', 'working', 'good', 'quality', 'product', 'don', '4fabulous', '1worthless', 'nice', 'buy']\n"
     ]
    }
   ],
   "source": [
    "# --- Step 5: Extract Top Keywords (UPGRADED with N-grams) ---\n",
    "\n",
    "def get_top_keywords(df, sentiment, n_top=10):\n",
    "    \"\"\"\n",
    "    Extracts the top N keywords/phrases for a given sentiment using TF-IDF.\n",
    "    Now considers both single words and pairs of words (n-grams).\n",
    "    \"\"\"\n",
    "    subset_df = df[df['sentiment_label'] == sentiment]\n",
    "    \n",
    "    if subset_df.empty:\n",
    "        return []\n",
    "        \n",
    "    text_corpus = subset_df['cleaned_review'].tolist()\n",
    "    \n",
    "    # --- MODIFICATION HERE ---\n",
    "    # ngram_range=(1, 2) tells the vectorizer to consider both single words (unigrams)\n",
    "    # and pairs of words (bigrams).\n",
    "    vectorizer = TfidfVectorizer(stop_words='english', max_features=1000, ngram_range=(1, 2))\n",
    "    \n",
    "    tfidf_matrix = vectorizer.fit_transform(text_corpus)\n",
    "    feature_names = vectorizer.get_feature_names_out()\n",
    "    summed_tfidf = tfidf_matrix.sum(axis=0)\n",
    "    \n",
    "    # The rest of the function remains the same...\n",
    "    tfidf_scores = []\n",
    "    # Note: Looping through .vocabulary_.items() can be slow on huge datasets,\n",
    "    # but is fine for this size.\n",
    "    for word, idx in vectorizer.vocabulary_.items():\n",
    "        tfidf_scores.append((word, summed_tfidf[0, idx]))\n",
    "        \n",
    "    sorted_scores = sorted(tfidf_scores, key=lambda x: x[1], reverse=True)\n",
    "    top_keywords = [word for word, score in sorted_scores[:n_top]]\n",
    "    \n",
    "    return top_keywords\n",
    "\n",
    "# Get top 10 positive and negative keywords/phrases\n",
    "top_positive_keywords = get_top_keywords(df, 'POSITIVE')\n",
    "top_negative_keywords = get_top_keywords(df, 'NEGATIVE')\n",
    "\n",
    "print(\"Top Positive Keywords/Phrases:\", top_positive_keywords)\n",
    "print(\"Top Negative Keywords/Phrases:\", top_negative_keywords)"
   ]
  },
  {
   "cell_type": "code",
   "execution_count": 7,
   "id": "c1f25bbc-67ae-432f-8091-f3b93abe6dfa",
   "metadata": {},
   "outputs": [
    {
     "data": {
      "image/png": "[encoded data removed]",
      "text/plain": [
       "<Figure size 800x800 with 1 Axes>"
      ]
     },
     "metadata": {},
     "output_type": "display_data"
    },
    {
     "name": "stdout",
     "output_type": "stream",
     "text": [
      "\n",
      "--- Summary ---\n",
      "Total Reviews Analyzed: 386\n",
      "\n",
      "Sentiment Distribution:\n",
      "sentiment_label\n",
      "POSITIVE    263\n",
      "NEUTRAL      96\n",
      "NEGATIVE     27\n",
      "Name: count, dtype: int64\n",
      "\n",
      "----------------------------------\n",
      "Top 10 Keywords in POSITIVE Reviews:\n",
      "good , product , nice , quality , best , great , price , 5very , like , amazing\n",
      "\n",
      "Top 10 Keywords in NEGATIVE Reviews:\n",
      "bad , working , good , quality , product , don , 4fabulous , 1worthless , nice , buy\n",
      "----------------------------------\n"
     ]
    }
   ],
   "source": [
    "# --- Step 6: Generate the Summary Dashboard ---\n",
    "\n",
    "# 1. Calculate sentiment counts\n",
    "sentiment_counts = df['sentiment_label'].value_counts()\n",
    "\n",
    "# 2. Create the Pie Chart\n",
    "plt.figure(figsize=(8, 8))\n",
    "plt.pie(sentiment_counts, labels=sentiment_counts.index, autopct='%1.1f%%', startangle=140, colors=sns.color_palette(\"viridis\", len(sentiment_counts)))\n",
    "plt.title('Sentiment Analysis Breakdown of Product Reviews', fontsize=16)\n",
    "plt.ylabel('') # Hides the 'sentiment_label' text on the y-axis\n",
    "plt.show()\n",
    "\n",
    "# 3. Display the Top Keywords\n",
    "print(\"\\n--- Summary ---\")\n",
    "print(f\"Total Reviews Analyzed: {len(df)}\")\n",
    "print(\"\\nSentiment Distribution:\")\n",
    "print(sentiment_counts)\n",
    "print(\"\\n----------------------------------\")\n",
    "print(\"Top 10 Keywords in POSITIVE Reviews:\")\n",
    "print(\" , \".join(top_positive_keywords))\n",
    "print(\"\\nTop 10 Keywords in NEGATIVE Reviews:\")\n",
    "print(\" , \".join(top_negative_keywords))\n",
    "print(\"----------------------------------\")"
   ]
  },
  {
   "cell_type": "code",
   "execution_count": null,
   "id": "7c58b11c-1fa4-4d17-b523-87572703fd57",
   "metadata": {},
   "outputs": [],
   "source": []
  },
  {
   "cell_type": "code",
   "execution_count": null,
   "id": "5a1eefea-8d84-4b16-87b2-df1e5e79b4d1",
   "metadata": {},
   "outputs": [],
   "source": []
  }
 ],
 "metadata": {
  "kernelspec": {
   "display_name": "Python 3 (ipykernel)",
   "language": "python",
   "name": "python3"
  },
  "language_info": {
   "codemirror_mode": {
    "name": "ipython",
    "version": 3
   },
   "file_extension": ".py",
   "mimetype": "text/x-python",
   "name": "python",
   "nbconvert_exporter": "python",
   "pygments_lexer": "ipython3",
   "version": "3.13.7"
  }
 },
 "nbformat": 4,
 "nbformat_minor": 5
}
